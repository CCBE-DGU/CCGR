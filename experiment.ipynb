{
 "cells": [
  {
   "cell_type": "code",
   "execution_count": 1,
   "metadata": {},
   "outputs": [
    {
     "data": {
      "application/vnd.google.colaboratory.intrinsic+json": {
       "type": "string"
      },
      "text/plain": [
       "'\\nTODO - 1:\\n1. self edge, reverse edge, normal edge, self reverse edge testing\\n2. 1-column, one-hot column testing\\n3. hyperparameter tuning\\nTODO - 2:\\n1. path nn testing\\n'"
      ]
     },
     "execution_count": 1,
     "metadata": {},
     "output_type": "execute_result"
    }
   ],
   "source": [
    "from CANCER import *\n",
    "from CANCER_Util import *\n",
    "import matplotlib.pyplot as plt\n"
   ]
  },
  {
   "cell_type": "code",
   "execution_count": 2,
   "metadata": {},
   "outputs": [],
   "source": [
    "import torch.nn.functional as F\n",
    "from torch.nn import Linear, Sequential, BatchNorm1d, ReLU, Dropout\n",
    "from torch_geometric.nn import GCNConv, GINConv, GINEConv\n",
    "from torch_geometric.nn import global_mean_pool, global_add_pool\n",
    "import torch.nn as nn\n",
    "\n",
    "\n",
    "class GINCustomConv(torch.nn.Module):\n",
    "    def __init__(self, dim_in, dim_h, dim_out):\n",
    "        super(GINCustomConv, self).__init__()\n",
    "        self.conv = GINConv(\n",
    "            Sequential(\n",
    "                Linear(dim_in, dim_h),\n",
    "                BatchNorm1d(dim_h),\n",
    "                ReLU(),\n",
    "                Linear(dim_h, dim_out),\n",
    "                ReLU()\n",
    "            ),\n",
    "            train_eps=True\n",
    "        )    \n",
    "    def forward(self, X, edge_index):\n",
    "        return self.conv(X, edge_index)\n",
    "        \n",
    "\n",
    "class GIN(torch.nn.Module):\n",
    "    def __init__(self, dim_in, dim_h, dim_out, layer_num=3):\n",
    "        super(GIN, self).__init__()\n",
    "        assert layer_num >= 1\n",
    "        self.layer_num = layer_num\n",
    "        if layer_num == 1:\n",
    "            self.conv_in = GINCustomConv(dim_in, dim_h, dim_h)\n",
    "        elif layer_num >= 2:\n",
    "            self.conv_in = GINCustomConv(dim_in, dim_h, dim_h)\n",
    "            self.conv = nn.ModuleList([GINCustomConv(dim_h, dim_h, dim_h) for _ in range(layer_num-1)])\n",
    "        \n",
    "        self.lin1 = Linear(dim_h * layer_num, dim_h * layer_num)\n",
    "        self.lin2 = Linear(dim_h * layer_num, dim_out)\n",
    "\n",
    "    def __readout(self, embedded_layers, batch):\n",
    "        embedded_list = []\n",
    "        for h in embedded_layers:\n",
    "            temp_read = global_add_pool(h, batch)\n",
    "            embedded_list.append(temp_read)\n",
    "        graph_embedded = torch.cat(embedded_list, dim=1)\n",
    "        return graph_embedded\n",
    "\n",
    "    def __classification(self, embedded):\n",
    "        h = self.lin1(embedded)\n",
    "        h = F.relu(h)\n",
    "        h = F.dropout(h, p=0.5, training=self.training)\n",
    "        h = self.lin2(h)\n",
    "        return h, F.log_softmax(h, dim=1)\n",
    " \n",
    "    def __embedding(self, data):\n",
    "        embedded_layers = []\n",
    "        h = self.conv_in(data.x, data.edge_index)\n",
    "        embedded_layers.append(h)\n",
    "        for conv in self.conv:\n",
    "            h = conv(h, data.edge_index)\n",
    "            embedded_layers.append(h)\n",
    "        return embedded_layers\n",
    "\n",
    "    def forward(self, data):\n",
    "        if self.layer_num == 1:\n",
    "            h = self.conv_in(data.x, data.edge_index)\n",
    "            h = global_add_pool(h, data.batch)\n",
    "            return self.__classification(h)\n",
    "\n",
    "        # Node embeddings\n",
    "        embedded_layers = self.__embedding(data)\n",
    "        graph_embedded = self.__readout(embedded_layers, data.batch)\n",
    "        return self.__classification(graph_embedded)\n",
    " "
   ]
  },
  {
   "cell_type": "code",
   "execution_count": 3,
   "metadata": {},
   "outputs": [],
   "source": [
    "def show_history(history):\n",
    "    for idx in range(len(history['train_loss'])):\n",
    "        if type(history['train_loss'][idx]) == torch.Tensor:\n",
    "            history['train_loss'][idx] = history['train_loss'][idx].cpu().item()\n",
    "        if type(history['val_loss'][idx]) == torch.Tensor:\n",
    "            history['val_loss'][idx] = history['val_loss'][idx].cpu().item()\n",
    "        if type(history['train_acc'][idx]) == torch.Tensor:\n",
    "            history['train_acc'][idx] = history['train_acc'][idx].cpu().item()\n",
    "        if type(history['val_acc'][idx]) == torch.Tensor:\n",
    "            history['val_acc'][idx] = history['val_acc'][idx].cpu().item()\n",
    "\n",
    "    plt.plot(history['train_loss'], label='train loss', color='red')\n",
    "    plt.plot(history['val_loss'], label='validation loss', color='blue')\n",
    "    # plt.plot(history['train_acc'], label='train accuracy', color='green')\n",
    "    # plt.plot(history['val_acc'], label='validation accuracy', color='orange')\n",
    "    plt.xlabel('Epoch')\n",
    "    plt.ylabel('loss')"
   ]
  },
  {
   "cell_type": "code",
   "execution_count": 4,
   "metadata": {},
   "outputs": [],
   "source": [
    "from torch_geometric.data import Data\n",
    "from torch_geometric.data import Batch\n",
    "from torch_geometric.loader import DataLoader\n",
    "\n",
    "class Trainer:\n",
    "    def __init__(self, epochs = 100, learning_rate = 0.01, weight_decay=0.01, eps = 1e-5, print_every=10, device='cpu'):\n",
    "        self.epochs = epochs\n",
    "        self.learning_rate = learning_rate\n",
    "        self.weight_decay = weight_decay\n",
    "        self.eps = eps\n",
    "        self.print_every = print_every\n",
    "        self.device = device\n",
    "\n",
    "    def train(self, model, dataset, debug = False, batch_size = 32, train_rate=0.7, val_rate=0.2, test_rate=0.1):\n",
    "        train_data, validation_data, test_data = self.__split_dataset(dataset, train_rate, val_rate, test_rate)\n",
    "        train_loader = DataLoader(train_data, batch_size=batch_size, shuffle=True)\n",
    "        val_loader = DataLoader(validation_data, batch_size=batch_size, shuffle=True)\n",
    "        test_loader = DataLoader(test_data, batch_size=batch_size, shuffle=True)\n",
    "        model = model.to(self.device)        \n",
    "        \n",
    "        if debug:\n",
    "            torch.autograd.set_detect_anomaly(True)\n",
    "        optimizer = torch.optim.Adam(\n",
    "            model.parameters(), \n",
    "            lr = self.learning_rate, \n",
    "            weight_decay=self.weight_decay, \n",
    "            eps=self.eps\n",
    "        )\n",
    "        criterion = torch.nn.CrossEntropyLoss()\n",
    "\n",
    "        train_losses = []\n",
    "        train_acc = []\n",
    "        val_losses = []\n",
    "        val_accs = []\n",
    "\n",
    "        for epoch in range(self.epochs + 1):\n",
    "            total_loss = 0\n",
    "            acc = 0\n",
    "            val_loss = 0\n",
    "            val_acc = 0\n",
    "            for data in train_loader:\n",
    "                model.train()\n",
    "                data = data.to(self.device)\n",
    "                optimizer.zero_grad()\n",
    "                _, out = model(data)\n",
    "                loss = criterion(out, data.y)\n",
    "                total_loss += loss / len(train_loader)\n",
    "                acc += self.accuracy(out.argmax(dim=1), data.y) / len(train_loader)\n",
    "                loss.backward()\n",
    "                optimizer.step()\n",
    "\n",
    "                val_loss, val_acc = self.test(model, val_loader, device=self.device)\n",
    "\n",
    "            train_losses.append(total_loss)\n",
    "            train_acc.append(acc)\n",
    "            val_losses.append(val_loss)\n",
    "            val_accs.append(val_acc)\n",
    "            \n",
    "            if epoch % self.print_every == 0:\n",
    "                print(f'Epoch {epoch:>3} | Train Loss: {total_loss:.2f} '\n",
    "                        f'| Train Acc: {acc*100:>5.2f}% '\n",
    "                        f'| Val Loss: {val_loss:.5f} '\n",
    "                        f'| Val Acc: {val_acc*100:.5f}%')\n",
    "        test_loss, test_acc = self.test(model, test_loader, device=self.device)\n",
    "        print(f'Test Loss: {test_loss:.2f} | Test Acc: {test_acc*100:.2f}%')\n",
    "            \n",
    "        history = {'train_loss': train_losses, 'train_acc': train_acc, 'val_loss': val_losses, 'val_acc': val_accs}\n",
    "        return history, model\n",
    "        \n",
    "    @torch.no_grad()\n",
    "    def test(self, model, loader, device='cpu'):\n",
    "        criterion = torch.nn.CrossEntropyLoss()\n",
    "        model.eval()\n",
    "        loss = 0\n",
    "        acc = 0\n",
    "\n",
    "        for data in loader:\n",
    "            data.to(device)\n",
    "            _, out = model(data)\n",
    "            loss += criterion(out, data.y) / len(loader)\n",
    "            acc += self.accuracy(out.argmax(dim=1), data.y) / len(loader)\n",
    "        return loss, acc\n",
    "\n",
    "    def accuracy(self, pred_y, y):\n",
    "        \"\"\"Calculate accuracy.\"\"\"\n",
    "        return ((pred_y == y).sum() / len(y)).item()\n",
    "    \n",
    "    \n",
    "    def __split_dataset(self, dataset, train_rate = 0.7, val_rate = 0.2, test_rate = 0.1):\n",
    "        dataset_len = len(dataset)\n",
    "        grouped_data = {}\n",
    "        \n",
    "        data_train = []\n",
    "        data_validation = []\n",
    "        data_test = []\n",
    "\n",
    "        for i in range(dataset_len):\n",
    "            data = dataset[i]\n",
    "            if data.y.item() not in grouped_data:\n",
    "                grouped_data[data.y.item()] = [data]\n",
    "            else:\n",
    "                grouped_data[data.y.item()].append(data)\n",
    "\n",
    "        for group, data in grouped_data.items():\n",
    "            train_data_group = data[:int(len(data)*train_rate)]\n",
    "            validation_data_group = data[int(len(data)*train_rate):int(len(data)*(train_rate+val_rate))]\n",
    "            test_data_group = data[int(len(data)*(train_rate+val_rate)):]            \n",
    "        \n",
    "            data_train.extend(train_data_group)\n",
    "            data_validation.extend(validation_data_group)\n",
    "            data_test.extend(test_data_group)\n",
    "\n",
    "        return data_train, data_validation, data_test\n"
   ]
  },
  {
   "cell_type": "code",
   "execution_count": 6,
   "metadata": {},
   "outputs": [
    {
     "name": "stdout",
     "output_type": "stream",
     "text": [
      "yset  15\n",
      "yset  15\n"
     ]
    }
   ],
   "source": [
    "brac = MyDataSet(\n",
    "                [NLabel.BRAC_TCGA.filename, NLabel.BRAC_TCGA_PAN_CAN_ATLAS.filename, NLabel.BRAC_TCGA_PUB2015.filename], \n",
    "                [ELabel.BREAST_CANCER],\n",
    "                drop_y_threshold=1,\n",
    "                reverse = False,\n",
    "                self_edge = False\n",
    "            )\n",
    "\n",
    "brac_rev = MyDataSet(\n",
    "                [NLabel.BRAC_TCGA.filename, NLabel.BRAC_TCGA_PAN_CAN_ATLAS.filename, NLabel.BRAC_TCGA_PUB2015.filename], \n",
    "                [ELabel.BREAST_CANCER],\n",
    "                drop_y_threshold=1,\n",
    "                reverse = True,\n",
    "                self_edge = False\n",
    "            )\n",
    "# brac_self = MyDataSet(\n",
    "#                 [NLabel.BRAC_TCGA.filename, NLabel.BRAC_TCGA_PAN_CAN_ATLAS.filename, NLabel.BRAC_TCGA_PUB2015.filename], \n",
    "#                 [ELabel.BREAST_CANCER],\n",
    "#                 drop_y_threshold=1,\n",
    "#                 reverse = False,\n",
    "#                 self_edge = True\n",
    "#             )\n",
    "# brac_rev_self = MyDataSet(\n",
    "#                 [NLabel.BRAC_TCGA.filename, NLabel.BRAC_TCGA_PAN_CAN_ATLAS.filename, NLabel.BRAC_TCGA_PUB2015.filename], \n",
    "#                 [ELabel.BREAST_CANCER],\n",
    "#                 drop_y_threshold=1,\n",
    "#                 reverse = True,\n",
    "#                 self_edge = True\n",
    "#             )"
   ]
  },
  {
   "cell_type": "code",
   "execution_count": 7,
   "metadata": {},
   "outputs": [],
   "source": [
    "# brac_dataset = brac.make_dataset()\n",
    "brac_dataset_onehot = brac.make_dataset_onehot_column()\n",
    "\n",
    "# brac_rev_dataset = brac_rev.make_dataset()\n",
    "brac_rev_dataset_onehot = brac_rev.make_dataset_onehot_column()\n",
    "\n",
    "# brac_self_dataset = brac_self.make_dataset()\n",
    "# brac_self_dataset_onehot = brac_self.make_dataset_onehot_column()\n",
    "\n",
    "# brac_rev_self_dataset = brac_rev_self.make_dataset()\n",
    "# brac_rev_self_dataset_onehot = brac_rev_self.make_dataset_onehot_column()\n"
   ]
  },
  {
   "cell_type": "code",
   "execution_count": 9,
   "metadata": {},
   "outputs": [
    {
     "name": "stdout",
     "output_type": "stream",
     "text": [
      "Epoch   0 | Train Loss: 8.30 | Train Acc: 32.81% | Val Loss: 3.13304 | Val Acc: 69.97180%\n",
      "Epoch  10 | Train Loss: 1.52 | Train Acc: 64.61% | Val Loss: 1.05722 | Val Acc: 77.77256%\n",
      "Epoch  20 | Train Loss: 0.98 | Train Acc: 73.22% | Val Loss: 0.82380 | Val Acc: 78.52444%\n",
      "Epoch  30 | Train Loss: 0.89 | Train Acc: 75.00% | Val Loss: 0.77272 | Val Acc: 78.61059%\n",
      "Epoch  40 | Train Loss: 0.82 | Train Acc: 77.08% | Val Loss: 0.73347 | Val Acc: 80.00470%\n",
      "Epoch  50 | Train Loss: 0.79 | Train Acc: 77.45% | Val Loss: 0.70815 | Val Acc: 80.41197%\n",
      "Epoch  60 | Train Loss: 0.75 | Train Acc: 77.98% | Val Loss: 0.69187 | Val Acc: 81.88440%\n",
      "Epoch  70 | Train Loss: 0.71 | Train Acc: 78.57% | Val Loss: 0.66447 | Val Acc: 83.70927%\n",
      "Epoch  80 | Train Loss: 0.69 | Train Acc: 79.69% | Val Loss: 0.65325 | Val Acc: 83.03571%\n",
      "Epoch  90 | Train Loss: 0.64 | Train Acc: 80.38% | Val Loss: 0.63705 | Val Acc: 83.77976%\n",
      "Epoch 100 | Train Loss: 0.61 | Train Acc: 82.09% | Val Loss: 0.61725 | Val Acc: 84.45332%\n",
      "Epoch 110 | Train Loss: 0.57 | Train Acc: 82.64% | Val Loss: 0.61638 | Val Acc: 84.11654%\n",
      "Epoch 120 | Train Loss: 0.56 | Train Acc: 83.07% | Val Loss: 0.58908 | Val Acc: 85.76911%\n",
      "Epoch 130 | Train Loss: 0.52 | Train Acc: 84.61% | Val Loss: 0.58658 | Val Acc: 85.84743%\n",
      "Epoch 140 | Train Loss: 0.51 | Train Acc: 84.26% | Val Loss: 0.57526 | Val Acc: 86.09023%\n",
      "Epoch 150 | Train Loss: 0.48 | Train Acc: 84.60% | Val Loss: 0.56005 | Val Acc: 86.74812%\n",
      "Epoch 160 | Train Loss: 0.47 | Train Acc: 86.02% | Val Loss: 0.56596 | Val Acc: 87.24937%\n",
      "Epoch 170 | Train Loss: 0.43 | Train Acc: 86.40% | Val Loss: 0.56299 | Val Acc: 87.16322%\n",
      "Epoch 180 | Train Loss: 0.41 | Train Acc: 86.60% | Val Loss: 0.57038 | Val Acc: 87.00658%\n",
      "Epoch 190 | Train Loss: 0.40 | Train Acc: 86.84% | Val Loss: 0.55648 | Val Acc: 86.99091%\n",
      "Epoch 200 | Train Loss: 0.37 | Train Acc: 87.47% | Val Loss: 0.55761 | Val Acc: 87.82895%\n",
      "Test Loss: 0.81 | Test Acc: 85.37%\n"
     ]
    },
    {
     "data": {
      "image/png": "[encoded data removed]",
      "text/plain": [
       "<Figure size 640x480 with 1 Axes>"
      ]
     },
     "metadata": {},
     "output_type": "display_data"
    }
   ],
   "source": [
    "trainer = Trainer(\n",
    "    epochs = 200,\n",
    "    learning_rate= 0.00001,\n",
    "    weight_decay=0.005,\n",
    "    eps=1e-6,\n",
    "    device='cuda'\n",
    ")\n",
    "DATASET = brac_rev_dataset_onehot\n",
    "gin_32_layer3_normal_normal = GIN(DATASET.num_node_features, 128, DATASET.num_classes, 3)\n",
    "history, _ = trainer.train(gin_32_layer3_normal_normal, DATASET)\n",
    "show_history(history)\n"
   ]
  },
  {
   "cell_type": "code",
   "execution_count": 11,
   "metadata": {},
   "outputs": [],
   "source": [
    "# class SimpleLinear(torch.nn.Module):\n",
    "#     def __init__(self, dim_in, dim_h, dim_out):\n",
    "#         super(SimpleLinear, self).__init__()\n",
    "#         self.mlinear = Sequential(\n",
    "#                 Linear(dim_in, dim_h, dtype=torch.float32),\n",
    "#                 BatchNorm1d(dim_h),\n",
    "#                 ReLU(),\n",
    "#                 Linear(dim_h, dim_h, dtype=torch.float32),\n",
    "#                 ReLU(),\n",
    "#                 Dropout(p=0.5),\n",
    "#                 Linear(dim_h, dim_out, dtype=torch.float32),\n",
    "#                 ReLU()\n",
    "#             )\n",
    "        \n",
    "#     def forward(self, data):\n",
    "#         # print(data.batch.shape)\n",
    "#         x = data.x.reshape((-1, 176))\n",
    "#         x = x.to(torch.float32)\n",
    "#         h = self.mlinear(x)\n",
    "#         return h, F.log_softmax(h, dim=1)\n",
    "    \n",
    "# linear_3 = SimpleLinear(brac_dataset[0].x.shape[0], 32, brac_dataset.num_classes)\n",
    "# trainer_cpu = Trainer(device='cpu')\n",
    "# history, _ = trainer_cpu.train(linear_3, brac_dataset)\n"
   ]
  },
  {
   "cell_type": "code",
   "execution_count": 14,
   "metadata": {},
   "outputs": [
    {
     "name": "stdout",
     "output_type": "stream",
     "text": [
      "[(2, 2081), (5, 534), (10, 119), (3, 116), (7, 75), (8, 33), (1, 22), (11, 7), (9, 3), (13, 2), (0, 2), (6, 2), (14, 1), (4, 1), (12, 1)]\n",
      "[(2, 0.6938979659886629), (5, 0.1780593531177059), (10, 0.039679893297765924), (3, 0.03867955985328443), (7, 0.025008336112037347), (8, 0.011003667889296432), (1, 0.007335778592864288), (11, 0.002334111370456819), (9, 0.0010003334444814939), (13, 0.0006668889629876625), (0, 0.0006668889629876625), (6, 0.0006668889629876625), (14, 0.00033344448149383126), (4, 0.00033344448149383126), (12, 0.00033344448149383126)]\n"
     ]
    }
   ],
   "source": [
    "DataShower.show_y_number(brac_dataset_onehot)"
   ]
  },
  {
   "cell_type": "code",
   "execution_count": 15,
   "metadata": {},
   "outputs": [
    {
     "name": "stdout",
     "output_type": "stream",
     "text": [
      "Dataset: DataBatch(x=[527824, 176], edge_index=[2, 161946], edge_attr=[161946], y=[2999], batch=[527824], ptr=[3000], num_classes=15)\n",
      "-------------------\n",
      "Number of graphs: 2999\n",
      "Number of nodes: 176\n",
      "Number of features: 176\n",
      "Numer of edge attr: tensor([1, 1, 1,  ..., 1, 1, 1])\n",
      "Number of classes: 15\n"
     ]
    }
   ],
   "source": [
    "DataShower.show_dataset(brac_dataset_onehot)"
   ]
  },
  {
   "cell_type": "code",
   "execution_count": 7,
   "metadata": {},
   "outputs": [
    {
     "name": "stdout",
     "output_type": "stream",
     "text": [
      "yset  51\n",
      "Epoch   0 | Train Loss: 9.82 | Train Acc: 19.60% | Val Loss: 3.69408 | Val Acc: 48.47384%\n",
      "Epoch  10 | Train Loss: 1.54 | Train Acc: 56.18% | Val Loss: 1.17712 | Val Acc: 66.95736%\n",
      "Epoch  20 | Train Loss: 1.12 | Train Acc: 67.12% | Val Loss: 0.88822 | Val Acc: 74.75775%\n",
      "Epoch  30 | Train Loss: 0.90 | Train Acc: 72.70% | Val Loss: 0.75377 | Val Acc: 76.47771%\n",
      "Epoch  40 | Train Loss: 0.78 | Train Acc: 75.56% | Val Loss: 0.68447 | Val Acc: 78.58527%\n",
      "Epoch  50 | Train Loss: 0.70 | Train Acc: 77.74% | Val Loss: 0.64303 | Val Acc: 79.57849%\n",
      "Test Loss: 1.39 | Test Acc: 69.75%\n"
     ]
    },
    {
     "data": {
      "image/png": "[encoded data removed]",
      "text/plain": [
       "<Figure size 640x480 with 1 Axes>"
      ]
     },
     "metadata": {},
     "output_type": "display_data"
    }
   ],
   "source": [
    "trainer = Trainer(\n",
    "    epochs = 50,\n",
    "    learning_rate= 0.00001,\n",
    "    weight_decay=0.005,\n",
    "    eps=1e-6,\n",
    "    device='cuda'\n",
    ")\n",
    "\n",
    "Full = MyDataSet(\n",
    "            [NLabel.FULL.filename],\n",
    "                [\n",
    "                    ELabel.CANCER, \n",
    "                    ELabel.BREAST_CANCER,\n",
    "                    ELabel.COLORECTAL_CANCER,\n",
    "                    ELabel.RENAL_CELL_CARCINOMA,\n",
    "                    ELabel.GILOMA,\n",
    "                    ELabel.ENDOMETRIAL_CANCER\n",
    "                ],\n",
    "                detail=False, \n",
    "                drop_y_threshold= 1,\n",
    "                reverse=True\n",
    "            )\n",
    "Full_dataset_onehot = Full.make_dataset_onehot_column()\n",
    "DATASET = Full_dataset_onehot\n",
    "gin_32_layer3_normal_normal = GIN(DATASET.num_node_features, 128, DATASET.num_classes, 3)\n",
    "history, _ = trainer.train(gin_32_layer3_normal_normal, DATASET)\n",
    "show_history(history)\n"
   ]
  },
  {
   "cell_type": "code",
   "execution_count": null,
   "metadata": {},
   "outputs": [],
   "source": []
  }
 ],
 "metadata": {
  "kernelspec": {
   "display_name": "Python 3",
   "language": "python",
   "name": "python3"
  },
  "language_info": {
   "codemirror_mode": {
    "name": "ipython",
    "version": 3
   },
   "file_extension": ".py",
   "mimetype": "text/x-python",
   "name": "python",
   "nbconvert_exporter": "python",
   "pygments_lexer": "ipython3",
   "version": "3.10.11"
  },
  "orig_nbformat": 4
 },
 "nbformat": 4,
 "nbformat_minor": 2
}
