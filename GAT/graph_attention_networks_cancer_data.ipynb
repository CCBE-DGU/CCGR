{
  "cells": [
    {
      "cell_type": "markdown",
      "metadata": {
        "id": "JP-tMdIGGqCP"
      },
      "source": [
        "Graph Attention Networks\n",
        "\n"
      ]
    },
    {
      "cell_type": "markdown",
      "metadata": {
        "id": "d6vRju7rGqCS"
      },
      "source": [
        "## Outline"
      ]
    },
    {
      "cell_type": "markdown",
      "metadata": {
        "id": "36nzXBX_GqCS"
      },
      "source": [
        "- colab 에서 실행하기 위한 setting"
      ]
    },
    {
      "cell_type": "code",
      "execution_count": 1,
      "metadata": {
        "id": "yXAR0zvIGqCT",
        "outputId": "205890ee-128a-4257-9a98-4a897c9dd4f2",
        "colab": {
          "base_uri": "https://localhost:8080/"
        }
      },
      "outputs": [
        {
          "output_type": "stream",
          "name": "stdout",
          "text": [
            "2.0.1+cu118\n",
            "\u001b[2K     \u001b[90m━━━━━━━━━━━━━━━━━━━━━━━━━━━━━━━━━━━━━━━━\u001b[0m \u001b[32m10.2/10.2 MB\u001b[0m \u001b[31m69.2 MB/s\u001b[0m eta \u001b[36m0:00:00\u001b[0m\n",
            "\u001b[2K     \u001b[90m━━━━━━━━━━━━━━━━━━━━━━━━━━━━━━━━━━━━━━━━\u001b[0m \u001b[32m4.8/4.8 MB\u001b[0m \u001b[31m19.6 MB/s\u001b[0m eta \u001b[36m0:00:00\u001b[0m\n",
            "\u001b[?25h  Installing build dependencies ... \u001b[?25l\u001b[?25hdone\n",
            "  Getting requirements to build wheel ... \u001b[?25l\u001b[?25hdone\n",
            "  Preparing metadata (pyproject.toml) ... \u001b[?25l\u001b[?25hdone\n",
            "  Building wheel for torch_geometric (pyproject.toml) ... \u001b[?25l\u001b[?25hdone\n"
          ]
        }
      ],
      "source": [
        "import os\n",
        "import torch\n",
        "os.environ['TORCH'] = torch.__version__\n",
        "print(torch.__version__)\n",
        "\n",
        "!pip install -q torch-scatter -f https://data.pyg.org/whl/torch-${TORCH}.html\n",
        "!pip install -q torch-sparse -f https://data.pyg.org/whl/torch-${TORCH}.html\n",
        "!pip install -q git+https://github.com/pyg-team/pytorch_geometric.git"
      ]
    },
    {
      "cell_type": "code",
      "execution_count": 2,
      "metadata": {
        "id": "Ee2XGsMLGqCV"
      },
      "outputs": [],
      "source": [
        "import numpy as np\n",
        "import torch\n",
        "import torch.nn as nn\n",
        "import torch.nn.functional as F"
      ]
    },
    {
      "cell_type": "code",
      "source": [
        "from google.colab import drive\n",
        "drive.mount('/content/drive')"
      ],
      "metadata": {
        "colab": {
          "base_uri": "https://localhost:8080/"
        },
        "id": "75_I_3VKKXr5",
        "outputId": "efa210a5-344b-4ed1-fe5d-e8e90ed24f96"
      },
      "execution_count": 3,
      "outputs": [
        {
          "output_type": "stream",
          "name": "stdout",
          "text": [
            "Mounted at /content/drive\n"
          ]
        }
      ]
    },
    {
      "cell_type": "code",
      "source": [
        "import os\n",
        "os.chdir('/content/drive/MyDrive/Colab Notebooks/graph')\n",
        "!ls"
      ],
      "metadata": {
        "colab": {
          "base_uri": "https://localhost:8080/"
        },
        "id": "EE6NuGkrKmG2",
        "outputId": "b0000cc4-bb65-480f-bbfc-e202e24c2c0c"
      },
      "execution_count": 4,
      "outputs": [
        {
          "output_type": "stream",
          "name": "stdout",
          "text": [
            "'graph attention networks - cancer data'\n",
            " node.csv\n",
            " totaledge_edge_breast-cancer.csv\n",
            " totaledge_edge_cancer.csv\n",
            " totaledge_edge_colorectal-cancer.csv\n",
            " totaledge_edge_endometrial-cancer.csv\n",
            " totaledge_edge_glioma.csv\n",
            " totaledge_edge_renal-cell-carcinoma.csv\n",
            " totalnode_brca_tcga.csv\n",
            " totalnode_brca_tcga_pan_can_atlas_2018.csv\n",
            " totalnode_brca_tcga_pub2015.csv\n",
            " totalnode_ccle_broad_2019.csv\n",
            " totalnode_coadread_tcga_pan_can_atlas_2018.csv\n",
            " totalnode_kirc_tcga.csv\n",
            " totalnode_lgg_tcga.csv\n",
            " totalnode_ucec_tcga_pan_can_atlas_2018.csv\n"
          ]
        }
      ]
    },
    {
      "cell_type": "code",
      "source": [
        "from typing import Union, Tuple, Optional\n",
        "\n",
        "from torch_geometric.nn.inits import glorot\n",
        "from torch_geometric.typing import (OptPairTensor, Adj, Size, NoneType,\n",
        "                                    OptTensor)\n",
        "\n",
        "import torch\n",
        "from torch import Tensor\n",
        "import torch.nn.functional as F\n",
        "from torch_geometric.nn.conv import GATConv\n",
        "from torch_geometric.utils import (\n",
        "    add_self_loops,\n",
        "    softmax,\n",
        ")\n",
        "\n",
        "\n",
        "class GATEdgeConv(GATConv):\n",
        "      def edge_update(self, alpha_j: Tensor, alpha_i: OptTensor,\n",
        "                    edge_attr: OptTensor, index: Tensor, ptr: OptTensor,\n",
        "                    size_i: Optional[int]) -> Tensor:\n",
        "\n",
        "        alpha = alpha_j if alpha_i is None else alpha_j + alpha_i\n",
        "        if index.numel() == 0:\n",
        "            return alpha\n",
        "        if edge_attr is not None and self.lin_edge is not None:\n",
        "            if edge_attr.dim() == 1:\n",
        "                edge_attr = edge_attr.view(-1, 1)\n",
        "            edge_attr = self.lin_edge(edge_attr)\n",
        "            edge_attr = edge_attr.view(-1, self.heads, self.out_channels)\n",
        "            alpha_edge = (edge_attr * self.att_edge).sum(dim=-1)\n",
        "            alpha = alpha + alpha_edge\n",
        "\n",
        "        alpha = F.leaky_relu(alpha, self.negative_slope)\n",
        "        alpha = softmax(alpha, index, ptr, size_i)\n",
        "        alpha = F.dropout(alpha, p=self.dropout, training=self.training)\n",
        "        return alpha"
      ],
      "metadata": {
        "id": "UHL2iqwUCROM"
      },
      "execution_count": 42,
      "outputs": []
    },
    {
      "cell_type": "code",
      "source": [
        "\n",
        "import torch.utils.data as data\n",
        "from torch_geometric.data import Data\n",
        "from torch_geometric.nn import GATConv\n",
        "import torch_geometric.transforms as T\n",
        "import pandas as pd\n",
        "from torch_geometric.data import Batch\n",
        "\n",
        "node_data = pd.read_csv('node.csv').dropna(axis=0)\n",
        "\n",
        "node_data = node_data[node_data['cancer_type']=='Breast Cancer']\n",
        "node_data = node_data[node_data['path']=='breast-cancer']\n",
        "node_data = node_data.reset_index(drop=True)\n",
        "\n",
        "\n",
        "node_data_type_detailed = node_data['cancer_type_detailed'].unique()\n",
        "\n",
        "file_name = f'totaledge_edge_breast-cancer.csv'\n",
        "edge_data = pd.read_csv(file_name).dropna(axis=0)\n",
        "edge_data = edge_data.reset_index(drop=True)\n",
        "\n",
        "\n",
        "x = torch.tensor(node_data.drop(['cancer_type', 'cancer_type_detailed', 'path'], axis=1).values, dtype=torch.float)\n",
        "\n",
        "index_mapping = {value: index for index, value in enumerate(node_data.drop(['cancer_type', 'cancer_type_detailed', 'path'], axis=1).columns)}\n",
        "\n",
        "# source 및 target 컬럼에 대해 매핑 적용\n",
        "edge_data['source'] = edge_data['source'].map(index_mapping)\n",
        "edge_data['target'] = edge_data['target'].map(index_mapping)\n",
        "\n",
        "\n",
        "edge_index = torch.tensor(edge_data[['source', 'target']].values.T, dtype=torch.long)\n",
        "edge_weight = torch.tensor(edge_data['weight'].values, dtype=torch.float)\n",
        "\n",
        "node_data['cancer_type_detailed'], _ = pd.factorize(node_data['cancer_type_detailed'])\n",
        "\n",
        "y = torch.tensor(node_data['cancer_type_detailed'].values, dtype=torch.long)\n",
        "\n",
        "data = Data(x=x, edge_index=edge_index, edge_attr=edge_weight, y=y)\n",
        "\n",
        "print(data.num_nodes, data.num_edges)\n",
        "data.transform = T.NormalizeFeatures()\n",
        "\n"
      ],
      "metadata": {
        "colab": {
          "base_uri": "https://localhost:8080/"
        },
        "id": "YaTtSKTy00Yy",
        "outputId": "dc1bf403-df51-4318-93aa-b89ebd83f099"
      },
      "execution_count": 44,
      "outputs": [
        {
          "output_type": "stream",
          "name": "stdout",
          "text": [
            "3262 268\n"
          ]
        }
      ]
    },
    {
      "cell_type": "code",
      "source": [
        "print(data)"
      ],
      "metadata": {
        "colab": {
          "base_uri": "https://localhost:8080/"
        },
        "id": "04G_UWCKrRpf",
        "outputId": "e96b218e-6fc1-4400-db93-003d87b738fc"
      },
      "execution_count": 45,
      "outputs": [
        {
          "output_type": "stream",
          "name": "stdout",
          "text": [
            "Data(x=[3262, 176], edge_index=[2, 268], edge_attr=[268], y=[3262], transform=NormalizeFeatures())\n"
          ]
        }
      ]
    },
    {
      "cell_type": "code",
      "source": [
        "from torch_geometric.loader import DataLoader\n",
        "\n",
        "# train, validation, test 데이터의 비율을 지정.\n",
        "train_ratio = 0.7\n",
        "val_ratio = 0.1\n",
        "test_ratio = 0.2\n",
        "\n",
        "# 데이터의 개수를 계산.\n",
        "num_data = data.num_nodes\n",
        "num_train = int(num_data * train_ratio)\n",
        "num_val = int(num_data * val_ratio)\n",
        "num_test = num_data - num_train - num_val\n",
        "\n",
        "# 데이터를 랜덤하게 섞기.\n",
        "perm = torch.randperm(num_data)\n",
        "\n",
        "# train, validation, test 데이터의 인덱스를 계산.\n",
        "train_idx = perm[:num_train]\n",
        "val_idx = perm[num_train:num_train+num_val]\n",
        "test_idx = perm[num_train+num_val:]\n",
        "\n",
        "# train, validation, test 데이터를 나누는 마스크를 생성.\n",
        "train_mask = torch.zeros(num_data, dtype=torch.bool)\n",
        "val_mask = torch.zeros(num_data, dtype=torch.bool)\n",
        "test_mask = torch.zeros(num_data, dtype=torch.bool)\n",
        "\n",
        "train_mask[train_idx] = True\n",
        "val_mask[val_idx] = True\n",
        "test_mask[test_idx] = True\n",
        "\n",
        "# train, validation, test 데이터를 나누기.\n",
        "data.train_mask = train_mask\n",
        "data.val_mask = val_mask\n",
        "data.test_mask = test_mask\n",
        "\n",
        "\n",
        "# train, validation, test 데이터를 로드하는 DataLoader 객체를 생성.\n",
        "# batch loader 에서 사용 - 현재 batch loader 구현 실패\n",
        "# train_loader = DataLoader(train_data, batch_size=32, shuffle=True)\n",
        "# val_loader = DataLoader(val_data, batch_size=32, shuffle=False)\n",
        "# test_loader = DataLoader(test_data, batch_size=32, shuffle=False)\n",
        "\n",
        "\n"
      ],
      "metadata": {
        "id": "qO9v4bR-YwEi"
      },
      "execution_count": 46,
      "outputs": []
    },
    {
      "cell_type": "code",
      "execution_count": 47,
      "metadata": {
        "id": "IyxZ_uXfGqCY",
        "colab": {
          "base_uri": "https://localhost:8080/"
        },
        "outputId": "1f022d5a-2132-40d9-896a-7788d0052a40"
      },
      "outputs": [
        {
          "output_type": "stream",
          "name": "stdout",
          "text": [
            "Loss : tensor(3.3352, grad_fn=<NllLossBackward0>) , val_loss :  tensor(3.4331, grad_fn=<NllLossBackward0>)\n",
            "Loss : tensor(0.8188, grad_fn=<NllLossBackward0>) , val_loss :  tensor(0.9971, grad_fn=<NllLossBackward0>)\n",
            "Loss : tensor(0.6356, grad_fn=<NllLossBackward0>) , val_loss :  tensor(0.8638, grad_fn=<NllLossBackward0>)\n",
            "Loss : tensor(0.5456, grad_fn=<NllLossBackward0>) , val_loss :  tensor(0.8494, grad_fn=<NllLossBackward0>)\n",
            "Loss : tensor(0.5159, grad_fn=<NllLossBackward0>) , val_loss :  tensor(0.7292, grad_fn=<NllLossBackward0>)\n",
            "Loss : tensor(0.4599, grad_fn=<NllLossBackward0>) , val_loss :  tensor(0.7961, grad_fn=<NllLossBackward0>)\n",
            "Loss : tensor(0.4192, grad_fn=<NllLossBackward0>) , val_loss :  tensor(0.6642, grad_fn=<NllLossBackward0>)\n",
            "Loss : tensor(0.3871, grad_fn=<NllLossBackward0>) , val_loss :  tensor(0.6229, grad_fn=<NllLossBackward0>)\n",
            "Loss : tensor(0.3571, grad_fn=<NllLossBackward0>) , val_loss :  tensor(0.6677, grad_fn=<NllLossBackward0>)\n",
            "Loss : tensor(0.3566, grad_fn=<NllLossBackward0>) , val_loss :  tensor(0.6071, grad_fn=<NllLossBackward0>)\n",
            "\n",
            "소요된 시간: 10.91361927986145 초\n",
            "Train Accuracy: 0.9724\n",
            "val Accuracy: 0.9294\n",
            "Test Accuracy: 0.9204\n"
          ]
        }
      ],
      "source": [
        "import time\n",
        "\n",
        "# 코드\n",
        "class GAT(torch.nn.Module):\n",
        "    def __init__(self):\n",
        "        super(GAT, self).__init__()\n",
        "        self.hid = 8\n",
        "        self.in_head = 8\n",
        "        self.out_head = 1\n",
        "\n",
        "        self.conv1 = GATEdgeConv(data.num_features, self.hid, heads=self.in_head, dropout=0.3)\n",
        "        self.conv2 = GATEdgeConv(self.hid*self.in_head, len(node_data_type_detailed), concat=False,\n",
        "                             heads=self.out_head, dropout=0.3)\n",
        "\n",
        "    def forward(self, data):\n",
        "        x, edge_index, edge_attr = data.x, data.edge_index, data.edge_attr\n",
        "\n",
        "        x = self.conv1(x = x, edge_index = edge_index, edge_attr = edge_attr)\n",
        "        x = F.elu(x)\n",
        "        x = self.conv2(x = x, edge_index = edge_index, edge_attr = edge_attr)\n",
        "\n",
        "        return F.log_softmax(x, dim=1)\n",
        "\n",
        "\n",
        "# device = torch.device('cuda' if torch.cuda.is_available() else 'cpu')\n",
        "\n",
        "# model = GAT().to(device)\n",
        "\n",
        "# batch_size = 32\n",
        "# loader = DataLoader(data, batch_size=batch_size, shuffle=True)\n",
        "\n",
        "model = GAT()\n",
        "\n",
        "criterion = torch.nn.CrossEntropyLoss()\n",
        "\n",
        "optimizer = torch.optim.Adam(model.parameters(), lr=0.005, weight_decay=5e-4)\n",
        "\n",
        "train_loss_list=[]\n",
        "val_loss_list=[]\n",
        "\n",
        "start_time = time.time()\n",
        "model.train()\n",
        "for epoch in range(500):\n",
        "    model.train()\n",
        "    # for data in loader:\n",
        "    optimizer.zero_grad()\n",
        "    out = model(data)\n",
        "    loss = criterion(out[data.train_mask], data.y[data.train_mask])\n",
        "    val_loss = criterion(out[data.val_mask], data.y[data.val_mask])\n",
        "\n",
        "    train_loss_list +=[loss.item()]\n",
        "    val_loss_list +=[val_loss.item()]\n",
        "    if epoch%50 == 0:\n",
        "        print(\"Loss :\",loss,\", val_loss : \",val_loss)\n",
        "\n",
        "    loss.backward()\n",
        "    optimizer.step()\n",
        "\n",
        "\n",
        "end_time = time.time()\n",
        "elapsed_time = end_time - start_time\n",
        "print(\"\\n소요된 시간:\", elapsed_time, \"초\")\n",
        "model.eval()\n",
        "_, pred = model(data).max(dim=1)\n",
        "correct = float(pred[data.train_mask].eq(data.y[data.train_mask]).sum().item())\n",
        "acc = correct / data.train_mask.sum().item()\n",
        "\n",
        "print('Train Accuracy: {:.4f}'.format(acc))\n",
        "\n",
        "\n",
        "correct = float(pred[data.val_mask].eq(data.y[data.val_mask]).sum().item())\n",
        "acc = correct / data.val_mask.sum().item()\n",
        "print('val Accuracy: {:.4f}'.format(acc))\n",
        "\n",
        "\n",
        "correct = float(pred[data.test_mask].eq(data.y[data.test_mask]).sum().item())\n",
        "acc = correct / data.test_mask.sum().item()\n",
        "print('Test Accuracy: {:.4f}'.format(acc))"
      ]
    },
    {
      "cell_type": "code",
      "source": [
        "import matplotlib.pyplot as plt\n",
        "plt.plot(train_loss_list, label='Train')\n",
        "plt.plot(val_loss_list, label='Validation')\n",
        "plt.xlabel('Epoch')\n",
        "plt.ylabel('Loss')\n",
        "plt.legend()\n",
        "plt.show()"
      ],
      "metadata": {
        "colab": {
          "base_uri": "https://localhost:8080/",
          "height": 449
        },
        "id": "wZqhQl1nDQJc",
        "outputId": "ed1b98bc-a159-48f3-f4f6-47f4a8955bc6"
      },
      "execution_count": 48,
      "outputs": [
        {
          "output_type": "display_data",
          "data": {
            "text/plain": [
              "<Figure size 640x480 with 1 Axes>"
            ],
            "image/png": "[encoded data removed]"
          },
          "metadata": {}
        }
      ]
    },
    {
      "cell_type": "code",
      "execution_count": null,
      "metadata": {
        "id": "3BWvWTboGqCZ"
      },
      "outputs": [],
      "source": [
        "# 직접 만든 GAT layer로 학습\n",
        "# class GAT(torch.nn.Module):\n",
        "#     def __init__(self):\n",
        "#         super(GAT, self).__init__()\n",
        "#         self.hid = 8\n",
        "#         self.in_head = 8\n",
        "#         self.out_head = 1\n",
        "\n",
        "#         self.conv1 = GATLayer(in_features=dataset.num_features, out_features = self.hid, dropout=0.6, alpha = 0.2)\n",
        "#         self.conv2 = GATLayer(in_features=self.hid*self.in_head, out_features = dataset.num_classes, dropout=0.6, alpha = 0.2)\n",
        "\n",
        "#     def forward(self, data):\n",
        "#         x, edge_index = data.x, data.edge_index\n",
        "\n",
        "#         x = F.dropout(x, p=0.6, training=self.training)\n",
        "#         x = self.conv1(x, edge_index)\n",
        "#         x = F.elu(x)\n",
        "#         x = F.dropout(x, p=0.6, training=self.training)\n",
        "#         x = self.conv2(x, edge_index)\n",
        "\n",
        "#         return F.log_softmax(x, dim=1)\n",
        "\n",
        "\n",
        "# device = torch.device('cuda' if torch.cuda.is_available() else 'cpu')\n",
        "\n",
        "# model = GAT().to(device)\n",
        "# data = dataset[0].to(device)\n",
        "\n",
        "\n",
        "# optimizer = torch.optim.Adam(model.parameters(), lr=0.005, weight_decay=5e-4)\n",
        "\n",
        "# model.train()\n",
        "# for epoch in range(1000):\n",
        "#     model.train()\n",
        "#     optimizer.zero_grad()\n",
        "#     out = model(data)\n",
        "#     loss = F.nll_loss(out[data.train_mask], data.y[data.train_mask])\n",
        "\n",
        "#     if epoch%200 == 0:\n",
        "#         print(loss)\n",
        "\n",
        "#     loss.backward()\n",
        "#     optimizer.step()\n",
        "\n"
      ]
    },
    {
      "cell_type": "code",
      "source": [],
      "metadata": {
        "id": "hQmwPVnt48hU"
      },
      "execution_count": null,
      "outputs": []
    }
  ],
  "metadata": {
    "kernelspec": {
      "display_name": "Python 3",
      "name": "python3"
    },
    "language_info": {
      "codemirror_mode": {
        "name": "ipython",
        "version": 3
      },
      "file_extension": ".py",
      "mimetype": "text/x-python",
      "name": "python",
      "nbconvert_exporter": "python",
      "pygments_lexer": "ipython3",
      "version": "3.9.12"
    },
    "colab": {
      "provenance": [],
      "gpuType": "T4"
    },
    "accelerator": "GPU"
  },
  "nbformat": 4,
  "nbformat_minor": 0
}