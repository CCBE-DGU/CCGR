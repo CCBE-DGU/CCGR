{
 "cells": [
  {
   "cell_type": "code",
   "execution_count": 2,
   "metadata": {},
   "outputs": [
    {
     "name": "stdout",
     "output_type": "stream",
     "text": [
      "Cython is installed: True\n"
     ]
    }
   ],
   "source": [
    "from transformers.utils import is_cython_available\n",
    "\n",
    "print(\"Cython is installed:\", is_cython_available())"
   ]
  },
  {
   "cell_type": "code",
   "execution_count": 3,
   "metadata": {},
   "outputs": [],
   "source": [
    "import pandas as pd\n",
    "\n",
    "br_edges = pd.read_csv(\"Edge/totaledge_edge_breast-cancer.csv\")\n",
    "c_edges = pd.read_csv(\"Edge/totaledge_edge_cancer.csv\")\n",
    "col_edges = pd.read_csv(\"Edge/totaledge_edge_colorectal-cancer.csv\")\n",
    "end_edges = pd.read_csv(\"Edge/totaledge_edge_endometrial-cancer.csv\")\n",
    "gli_edges = pd.read_csv(\"Edge/totaledge_edge_glioma.csv\")\n",
    "ren_edges = pd.read_csv(\"Edge/totaledge_edge_renal-cell-carcinoma.csv\")\n",
    "\n",
    "edge_dict = {'breast-cancer':br_edges, 'cancer':c_edges, 'colorectal-cancer':col_edges, 'endometrial-cancer': end_edges, 'glioma':gli_edges, 'renal-cell-carcinoma': ren_edges}\n",
    "\n",
    "nodes = pd.read_csv(\"Node/FULL.csv\")"
   ]
  },
  {
   "cell_type": "code",
   "execution_count": 4,
   "metadata": {},
   "outputs": [
    {
     "name": "stdout",
     "output_type": "stream",
     "text": [
      "breast-cancer           4099\n",
      "cancer                  1156\n",
      "renal-cell-carcinoma     534\n",
      "glioma                   530\n",
      "colorectal-cancer        365\n",
      "endometrial-cancer       173\n",
      "Name: path, dtype: int64\n"
     ]
    },
    {
     "name": "stderr",
     "output_type": "stream",
     "text": [
      "/opt/anaconda3/lib/python3.7/site-packages/ipykernel_launcher.py:28: SettingWithCopyWarning: \n",
      "A value is trying to be set on a copy of a slice from a DataFrame\n",
      "\n",
      "See the caveats in the documentation: https://pandas.pydata.org/pandas-docs/stable/user_guide/indexing.html#returning-a-view-versus-a-copy\n"
     ]
    }
   ],
   "source": [
    "# nodes = nodes.drop(nodes[nodes[\"cancer_type\"] != \"Breast Cancer\"].index)\n",
    "nodes = nodes.dropna(axis=0)\n",
    "\n",
    "# nodes\n",
    "nodes = nodes.reset_index(drop=True)\n",
    "print(nodes[\"path\"].value_counts())\n",
    "\n",
    "graph_dict = {}\n",
    "\n",
    "for cancer_type, edges in edge_dict.items():\n",
    "    graph_dict[cancer_type] = [[], []]\n",
    "    for idx, row in edges.iterrows():\n",
    "      col_list = nodes.columns.tolist()\n",
    "      if(row[\"source\"] not in col_list or row[\"target\"] not in col_list):\n",
    "        print(\"something wrong\")\n",
    "        continue\n",
    "      if(row[\"weight\"]): # if weight != 0\n",
    "        graph_dict[cancer_type][0].append(nodes.columns.get_loc(row[\"source\"]))\n",
    "        graph_dict[cancer_type][1].append(nodes.columns.get_loc(row[\"target\"]))\n",
    "\n",
    "type_dict = {t:i for i, t in enumerate(nodes[\"path\"].unique())}\n",
    "type_dict\n",
    "\n",
    "edge_index = [graph_dict[p] for p in nodes[\"path\"]]\n",
    "edge_attr = [[[1] for i in range(len(graph_dict[p][0]))] for p in nodes[\"path\"]]\n",
    "\n",
    "for i, k in enumerate(nodes[\"path\"]):\n",
    "  nodes[\"path\"][i] = [type_dict[nodes[\"path\"][i]]]\n",
    "\n",
    "node_feat = [[[x] for x in sublist] for sublist in nodes.iloc[:, :-3].values.tolist()]\n",
    "num_nodes = [nodes.shape[1] - 3] * len(nodes)\n",
    "y = nodes[\"path\"]"
   ]
  },
  {
   "cell_type": "code",
   "execution_count": 4,
   "metadata": {},
   "outputs": [
    {
     "data": {
      "text/plain": [
       "DatasetDict({\n",
       "    train: Dataset({\n",
       "        features: ['node_feat', 'num_nodes', 'y', 'edge_index', 'edge_attr'],\n",
       "        num_rows: 6857\n",
       "    })\n",
       "})"
      ]
     },
     "execution_count": 4,
     "metadata": {},
     "output_type": "execute_result"
    }
   ],
   "source": [
    "from datasets import Dataset, DatasetDict\n",
    "custom_datadict = {\"node_feat\" : node_feat, \"num_nodes\" : num_nodes, 'y': y, 'edge_index': edge_index, 'edge_attr': edge_attr}\n",
    "custom_dataset = Dataset.from_dict(custom_datadict)\n",
    "custom_dataset = DatasetDict({\"train\": custom_dataset})\n",
    "custom_dataset\n",
    "\n",
    "# custom_dataset[\"train\"][0]"
   ]
  },
  {
   "cell_type": "code",
   "execution_count": 5,
   "metadata": {},
   "outputs": [
    {
     "data": {
      "text/plain": [
       "{'node_feat': Sequence(feature=Sequence(feature=Value(dtype='float64', id=None), length=-1, id=None), length=-1, id=None),\n",
       " 'num_nodes': Value(dtype='int64', id=None),\n",
       " 'y': Sequence(feature=Value(dtype='int64', id=None), length=-1, id=None),\n",
       " 'edge_index': Sequence(feature=Sequence(feature=Value(dtype='int64', id=None), length=-1, id=None), length=-1, id=None),\n",
       " 'edge_attr': Sequence(feature=Sequence(feature=Value(dtype='int64', id=None), length=-1, id=None), length=-1, id=None)}"
      ]
     },
     "execution_count": 5,
     "metadata": {},
     "output_type": "execute_result"
    }
   ],
   "source": [
    "custom_dataset[\"train\"].features"
   ]
  },
  {
   "cell_type": "code",
   "execution_count": null,
   "metadata": {},
   "outputs": [],
   "source": [
    "from transformers.models.graphormer.collating_graphormer import preprocess_item, GraphormerDataCollator\n",
    "import torch\n",
    "\n",
    "dataset_processed = custom_dataset.map(preprocess_item, batched=False, writer_batch_size=20)\n",
    "\n",
    "# split up training into training + validation\n",
    "train_ds = dataset_processed['train']\n",
    "torch.save(train_ds, './full_train.pt')\n",
    "print(train_ds[0].keys())"
   ]
  },
  {
   "cell_type": "code",
   "execution_count": null,
   "metadata": {},
   "outputs": [],
   "source": []
  },
  {
   "cell_type": "code",
   "execution_count": null,
   "metadata": {},
   "outputs": [],
   "source": []
  },
  {
   "cell_type": "code",
   "execution_count": null,
   "metadata": {},
   "outputs": [],
   "source": []
  }
 ],
 "metadata": {
  "kernelspec": {
   "display_name": "Python 3",
   "language": "python",
   "name": "python3"
  },
  "language_info": {
   "codemirror_mode": {
    "name": "ipython",
    "version": 3
   },
   "file_extension": ".py",
   "mimetype": "text/x-python",
   "name": "python",
   "nbconvert_exporter": "python",
   "pygments_lexer": "ipython3",
   "version": "3.7.6"
  }
 },
 "nbformat": 4,
 "nbformat_minor": 4
}
